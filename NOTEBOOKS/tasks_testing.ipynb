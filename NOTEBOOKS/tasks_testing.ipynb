{
 "cells": [
  {
   "cell_type": "code",
   "execution_count": 1,
   "metadata": {
    "collapsed": true
   },
   "outputs": [],
   "source": [
    "import requests"
   ]
  },
  {
   "cell_type": "code",
   "execution_count": 2,
   "outputs": [
    {
     "data": {
      "text/plain": "{'object': 'list',\n 'data': [{'object': 'engine',\n   'id': 'ada',\n   'ready': True,\n   'owner': 'openai',\n   'created': None,\n   'permissions': None,\n   'replicas': None,\n   'max_replicas': None},\n  {'object': 'engine',\n   'id': 'ada-code-search-code',\n   'ready': True,\n   'owner': 'openai',\n   'created': None,\n   'permissions': None,\n   'replicas': None,\n   'ready_replicas': None,\n   'max_replicas': None},\n  {'object': 'engine',\n   'id': 'ada-code-search-text',\n   'ready': True,\n   'owner': 'openai',\n   'created': None,\n   'permissions': None,\n   'replicas': None,\n   'ready_replicas': None,\n   'max_replicas': None},\n  {'object': 'engine',\n   'id': 'ada-instruct-beta',\n   'ready': True,\n   'owner': 'openai',\n   'created': None,\n   'permissions': None,\n   'replicas': None,\n   'ready_replicas': None,\n   'max_replicas': None},\n  {'object': 'engine',\n   'id': 'ada-search-document',\n   'ready': True,\n   'owner': 'openai',\n   'created': None,\n   'permissions': None,\n   'replicas': None,\n   'ready_replicas': None,\n   'max_replicas': None},\n  {'object': 'engine',\n   'id': 'ada-search-query',\n   'ready': True,\n   'owner': 'openai',\n   'created': None,\n   'permissions': None,\n   'replicas': None,\n   'ready_replicas': None,\n   'max_replicas': None},\n  {'object': 'engine',\n   'id': 'ada-similarity',\n   'ready': True,\n   'owner': 'openai',\n   'created': None,\n   'permissions': None,\n   'replicas': None,\n   'max_replicas': None},\n  {'object': 'engine',\n   'id': 'babbage',\n   'ready': True,\n   'owner': 'openai',\n   'created': None,\n   'permissions': None,\n   'replicas': None,\n   'max_replicas': None},\n  {'object': 'engine',\n   'id': 'babbage-code-search-code',\n   'ready': True,\n   'owner': 'openai',\n   'created': None,\n   'permissions': None,\n   'replicas': None,\n   'ready_replicas': None,\n   'max_replicas': None},\n  {'object': 'engine',\n   'id': 'babbage-code-search-text',\n   'ready': True,\n   'owner': 'openai',\n   'created': None,\n   'permissions': None,\n   'replicas': None,\n   'ready_replicas': None,\n   'max_replicas': None},\n  {'object': 'engine',\n   'id': 'babbage-instruct-beta',\n   'ready': True,\n   'owner': 'openai',\n   'created': None,\n   'permissions': None,\n   'replicas': None,\n   'max_replicas': None},\n  {'object': 'engine',\n   'id': 'babbage-search-document',\n   'ready': True,\n   'owner': 'openai',\n   'created': None,\n   'permissions': None,\n   'replicas': None,\n   'ready_replicas': None,\n   'max_replicas': None},\n  {'object': 'engine',\n   'id': 'babbage-search-query',\n   'ready': True,\n   'owner': 'openai',\n   'created': None,\n   'permissions': None,\n   'replicas': None,\n   'ready_replicas': None,\n   'max_replicas': None},\n  {'object': 'engine',\n   'id': 'babbage-similarity',\n   'ready': True,\n   'owner': 'openai',\n   'created': None,\n   'permissions': None,\n   'replicas': None,\n   'max_replicas': None},\n  {'object': 'engine',\n   'id': 'code-search-ada-code-001',\n   'ready': True,\n   'owner': 'openai',\n   'created': None,\n   'permissions': None,\n   'replicas': None,\n   'ready_replicas': None,\n   'max_replicas': None},\n  {'object': 'engine',\n   'id': 'code-search-ada-text-001',\n   'ready': True,\n   'owner': 'openai',\n   'created': None,\n   'permissions': None,\n   'replicas': None,\n   'ready_replicas': None,\n   'max_replicas': None},\n  {'object': 'engine',\n   'id': 'code-search-babbage-code-001',\n   'ready': True,\n   'owner': 'openai',\n   'created': None,\n   'permissions': None,\n   'replicas': None,\n   'ready_replicas': None,\n   'max_replicas': None},\n  {'object': 'engine',\n   'id': 'code-search-babbage-text-001',\n   'ready': True,\n   'owner': 'openai',\n   'created': None,\n   'permissions': None,\n   'replicas': None,\n   'ready_replicas': None,\n   'max_replicas': None},\n  {'object': 'engine',\n   'id': 'curie',\n   'ready': True,\n   'owner': 'openai',\n   'created': None,\n   'permissions': None,\n   'replicas': None,\n   'max_replicas': None},\n  {'object': 'engine',\n   'id': 'curie-instruct-beta',\n   'ready': True,\n   'owner': 'openai',\n   'created': None,\n   'permissions': None,\n   'replicas': None,\n   'ready_replicas': None,\n   'max_replicas': None},\n  {'object': 'engine',\n   'id': 'curie-instruct-beta-v2',\n   'ready': True,\n   'owner': 'openai',\n   'created': None,\n   'permissions': None,\n   'replicas': None,\n   'max_replicas': None},\n  {'object': 'engine',\n   'id': 'curie-search-document',\n   'ready': True,\n   'owner': 'openai',\n   'created': None,\n   'permissions': None,\n   'replicas': None,\n   'max_replicas': None},\n  {'object': 'engine',\n   'id': 'curie-search-query',\n   'ready': True,\n   'owner': 'openai',\n   'created': None,\n   'permissions': None,\n   'replicas': None,\n   'max_replicas': None},\n  {'object': 'engine',\n   'id': 'curie-similarity',\n   'ready': True,\n   'owner': 'openai',\n   'created': None,\n   'permissions': None,\n   'replicas': None,\n   'max_replicas': None},\n  {'object': 'engine',\n   'id': 'davinci',\n   'ready': True,\n   'owner': 'openai',\n   'created': None,\n   'permissions': None,\n   'replicas': None,\n   'max_replicas': None},\n  {'object': 'engine',\n   'id': 'davinci-instruct-beta',\n   'ready': True,\n   'owner': 'openai',\n   'created': None,\n   'permissions': None,\n   'replicas': None,\n   'ready_replicas': None,\n   'max_replicas': None},\n  {'object': 'engine',\n   'id': 'davinci-instruct-beta-v3',\n   'ready': True,\n   'owner': 'openai',\n   'created': None,\n   'permissions': None,\n   'replicas': None,\n   'ready_replicas': None,\n   'max_replicas': None},\n  {'object': 'engine',\n   'id': 'davinci-search-document',\n   'ready': True,\n   'owner': 'openai',\n   'created': None,\n   'permissions': None,\n   'replicas': None,\n   'ready_replicas': None,\n   'max_replicas': None},\n  {'object': 'engine',\n   'id': 'davinci-search-query',\n   'ready': True,\n   'owner': 'openai',\n   'created': None,\n   'permissions': None,\n   'replicas': None,\n   'ready_replicas': None,\n   'max_replicas': None},\n  {'object': 'engine',\n   'id': 'davinci-similarity',\n   'ready': True,\n   'owner': 'openai',\n   'created': None,\n   'permissions': None,\n   'replicas': None,\n   'ready_replicas': None,\n   'max_replicas': None},\n  {'object': 'engine',\n   'id': 'text-ada-001',\n   'ready': True,\n   'owner': 'openai',\n   'created': None,\n   'permissions': None,\n   'replicas': None,\n   'ready_replicas': None,\n   'max_replicas': None},\n  {'object': 'engine',\n   'id': 'text-babbage-001',\n   'ready': True,\n   'owner': 'openai',\n   'created': None,\n   'permissions': None,\n   'replicas': None,\n   'max_replicas': None},\n  {'object': 'engine',\n   'id': 'text-curie-001',\n   'ready': True,\n   'owner': 'openai',\n   'created': None,\n   'permissions': None,\n   'replicas': None,\n   'max_replicas': None},\n  {'object': 'engine',\n   'id': 'text-davinci-001',\n   'ready': True,\n   'owner': 'openai',\n   'created': None,\n   'permissions': None,\n   'replicas': None,\n   'ready_replicas': None,\n   'max_replicas': None},\n  {'object': 'engine',\n   'id': 'text-search-ada-doc-001',\n   'ready': True,\n   'owner': 'openai',\n   'created': None,\n   'permissions': None,\n   'replicas': None,\n   'ready_replicas': None,\n   'max_replicas': None},\n  {'object': 'engine',\n   'id': 'text-search-ada-query-001',\n   'ready': True,\n   'owner': 'openai',\n   'created': None,\n   'permissions': None,\n   'replicas': None,\n   'ready_replicas': None,\n   'max_replicas': None},\n  {'object': 'engine',\n   'id': 'text-search-babbage-doc-001',\n   'ready': True,\n   'owner': 'openai',\n   'created': None,\n   'permissions': None,\n   'replicas': None,\n   'ready_replicas': None,\n   'max_replicas': None},\n  {'object': 'engine',\n   'id': 'text-search-babbage-query-001',\n   'ready': True,\n   'owner': 'openai',\n   'created': None,\n   'permissions': None,\n   'replicas': None,\n   'ready_replicas': None,\n   'max_replicas': None},\n  {'object': 'engine',\n   'id': 'text-search-curie-doc-001',\n   'ready': True,\n   'owner': 'openai',\n   'created': None,\n   'permissions': None,\n   'replicas': None,\n   'max_replicas': None},\n  {'object': 'engine',\n   'id': 'text-search-curie-query-001',\n   'ready': True,\n   'owner': 'openai',\n   'created': None,\n   'permissions': None,\n   'replicas': None,\n   'max_replicas': None},\n  {'object': 'engine',\n   'id': 'text-search-davinci-doc-001',\n   'ready': True,\n   'owner': 'openai',\n   'created': None,\n   'permissions': None,\n   'replicas': None,\n   'ready_replicas': None,\n   'max_replicas': None},\n  {'object': 'engine',\n   'id': 'text-search-davinci-query-001',\n   'ready': True,\n   'owner': 'openai',\n   'created': None,\n   'permissions': None,\n   'replicas': None,\n   'ready_replicas': None,\n   'max_replicas': None},\n  {'object': 'engine',\n   'id': 'text-similarity-ada-001',\n   'ready': True,\n   'owner': 'openai',\n   'created': None,\n   'permissions': None,\n   'replicas': None,\n   'max_replicas': None},\n  {'object': 'engine',\n   'id': 'text-similarity-babbage-001',\n   'ready': True,\n   'owner': 'openai',\n   'created': None,\n   'permissions': None,\n   'replicas': None,\n   'max_replicas': None},\n  {'object': 'engine',\n   'id': 'text-similarity-curie-001',\n   'ready': True,\n   'owner': 'openai',\n   'created': None,\n   'permissions': None,\n   'replicas': None,\n   'max_replicas': None},\n  {'object': 'engine',\n   'id': 'text-similarity-davinci-001',\n   'ready': True,\n   'owner': 'openai',\n   'created': None,\n   'permissions': None,\n   'replicas': None,\n   'ready_replicas': None,\n   'max_replicas': None}]}"
     },
     "execution_count": 2,
     "metadata": {},
     "output_type": "execute_result"
    }
   ],
   "source": [
    "# Auth\n",
    "\n",
    "# Key format: Bearer sk-xxxxxxxxxxxxxxxxxxxxxxxxx\n",
    "# Organization format: org-xxxxxxxxxx\n",
    "auth_header = {'Authorization': 'INSERT_KEY_HERE',\n",
    "               'OpenAI-Organization': 'INSERT_ORGANIZATION_HERE'}\n",
    "r = requests.get('https://api.openai.com/v1/engines', headers=auth_header)\n",
    "r.json()"
   ],
   "metadata": {
    "collapsed": false,
    "pycharm": {
     "name": "#%%\n"
    }
   }
  },
  {
   "cell_type": "code",
   "execution_count": 3,
   "outputs": [],
   "source": [
    "def gpt_request(engine_id, request_body):\n",
    "\n",
    "    request = requests.post(f\"https://api.openai.com/v1/engines/{engine_id}/completions\",\n",
    "                            json=request_body,\n",
    "                            headers=auth_header)\n",
    "\n",
    "    result = request.json()['choices'][0]['text'].lstrip('\\n')\n",
    "\n",
    "    return result"
   ],
   "metadata": {
    "collapsed": false,
    "pycharm": {
     "name": "#%%\n"
    }
   }
  },
  {
   "cell_type": "code",
   "execution_count": 6,
   "outputs": [
    {
     "name": "stdout",
     "output_type": "stream",
     "text": [
      "Jupiter is the fifth planet from the Sun and the largest in the Solar System. It is a gas giant with a mass one-thousandth that of the Sun, but two-and-a-half times that of all the other planets in the Solar System combined. Jupiter is one of the brightest objects visible to the naked eye in the night sky, and has been known to ancient civilizations since before recorded history. \n",
      "tl;dr:\n",
      "\n"
     ]
    },
    {
     "data": {
      "text/plain": "'Jupiter is the fifth planet from the Sun, the largest in the Solar System, and one of the brightest objects in the night sky.'"
     },
     "execution_count": 6,
     "metadata": {},
     "output_type": "execute_result"
    }
   ],
   "source": [
    "def summarize(input_text):\n",
    "    result = \"undefined\"\n",
    "\n",
    "    prompt = input_text + '\\ntl;dr:\\n'\n",
    "    print(prompt)\n",
    "    engine_id_sum = 'davinci-instruct-beta-v3'\n",
    "\n",
    "    request_body_sum = {\n",
    "        'prompt':prompt,\n",
    "        \"max_tokens\": 60,\n",
    "        \"temperature\": 0.3,\n",
    "    }\n",
    "\n",
    "    global request_sum\n",
    "    request_sum = requests.post(f\"https://api.openai.com/v1/engines/{engine_id_sum}/completions\", json=request_body_sum, headers=auth_header)\n",
    "\n",
    "    result = request_sum.json()['choices'][0]['text'].lstrip('\\n')\n",
    "\n",
    "    return result\n",
    "\n",
    "summarize('Jupiter is the fifth planet from the Sun and the largest in the Solar System. It is a gas giant with a mass one-thousandth that of the Sun, but two-and-a-half times that of all the other planets in the Solar System combined. Jupiter is one of the brightest objects visible to the naked eye in the night sky, and has been known to ancient civilizations since before recorded history. ')"
   ],
   "metadata": {
    "collapsed": false,
    "pycharm": {
     "name": "#%%\n"
    }
   }
  },
  {
   "cell_type": "code",
   "execution_count": 5,
   "outputs": [
    {
     "data": {
      "text/plain": "'Jupiter is the fifth planet from the Sun.'"
     },
     "execution_count": 5,
     "metadata": {},
     "output_type": "execute_result"
    }
   ],
   "source": [
    "def ask_question(input_text, question):\n",
    "    result = \"undefined\"\n",
    "\n",
    "    prompt = 'Answer a question based on the following text:\\n###\\n' + input_text + '\\n###\\n' + question + '\\n###\\n'\n",
    "    # print(prompt)\n",
    "    # engine_id = 'davinci-instruct-beta-v3'\n",
    "    engine_id = 'text-davinci-001'\n",
    "\n",
    "    request_body = {\n",
    "        'prompt': prompt,\n",
    "        \"max_tokens\": 100,\n",
    "        \"temperature\": 0.3,\n",
    "        \"frequency_penalty\": 1,\n",
    "        \"stop\": '###'\n",
    "    }\n",
    "\n",
    "    global request\n",
    "    request = requests.post(f\"https://api.openai.com/v1/engines/{engine_id}/completions\",\n",
    "                            json=request_body,\n",
    "                            headers=auth_header)\n",
    "\n",
    "    result = request.json()['choices'][0]['text'].lstrip('\\n')\n",
    "\n",
    "    return result\n",
    "\n",
    "ask_question('Jupiter is the fifth planet from the Sun and the largest in the Solar System. It is a gas giant with a mass one-thousandth that of the Sun, but two-and-a-half times that of all the other planets in the Solar System combined. Jupiter is one of the brightest objects visible to the naked eye in the night sky, and has been known to ancient civilizations since before recorded history. ', 'Where is Jupiter?')"
   ],
   "metadata": {
    "collapsed": false,
    "pycharm": {
     "name": "#%%\n"
    }
   }
  },
  {
   "cell_type": "code",
   "execution_count": 56,
   "outputs": [
    {
     "data": {
      "text/plain": "'Planet'"
     },
     "execution_count": 56,
     "metadata": {},
     "output_type": "execute_result"
    }
   ],
   "source": [
    "def classify_topic(input_text):\n",
    "\n",
    "    prompt = 'What is the topic of the following text in one word:\\n###\\n' + input_text + '\\n###\\n'\n",
    "\n",
    "    engine_id = 'davinci-instruct-beta-v3'\n",
    "\n",
    "    request_body = {\n",
    "        'prompt': prompt,\n",
    "        \"max_tokens\": 20,\n",
    "        \"temperature\": 0.3,\n",
    "        \"frequency_penalty\": 1,\n",
    "        \"stop\": '###'\n",
    "    }\n",
    "\n",
    "    return gpt_request(engine_id, request_body)\n",
    "\n",
    "classify_topic('Jupiter is the fifth planet from the Sun and the largest in the Solar System. It is a gas giant with a mass one-thousandth that of the Sun, but two-and-a-half times that of all the other planets in the Solar System combined. Jupiter is one of the brightest objects visible to the naked eye in the night sky, and has been known to ancient civilizations since before recorded history. ')"
   ],
   "metadata": {
    "collapsed": false,
    "pycharm": {
     "name": "#%%\n"
    }
   }
  },
  {
   "cell_type": "code",
   "execution_count": 66,
   "outputs": [
    {
     "name": "stdout",
     "output_type": "stream",
     "text": [
      "Paraphrase the following sentence:\n",
      "Jupiter is one of the brightest objects visible to the naked eye in the night sky, and has been known to ancient civilizations since before recorded history. \n",
      "\n"
     ]
    },
    {
     "data": {
      "text/plain": "'Jupiter is one of the most easily visible objects in the night sky, and has been known to ancient civilizations since long before written history.'"
     },
     "execution_count": 66,
     "metadata": {},
     "output_type": "execute_result"
    }
   ],
   "source": [
    "def create_quote(input_text):\n",
    "\n",
    "    prompt = 'Paraphrase the following sentence:\\n' + input_text + '\\n'\n",
    "    print(prompt)\n",
    "\n",
    "    engine_id = 'davinci-instruct-beta-v3'\n",
    "\n",
    "    request_body = {\n",
    "        'prompt': prompt,\n",
    "        \"max_tokens\": 60,\n",
    "        \"temperature\": 1,\n",
    "        \"frequency_penalty\": 2,\n",
    "        \"presence_penalty\": 0.5,\n",
    "    }\n",
    "\n",
    "    return gpt_request(engine_id, request_body)\n",
    "\n",
    "create_quote('Jupiter is one of the brightest objects visible to the naked eye in the night sky, and has been known to ancient civilizations since before recorded history. ')"
   ],
   "metadata": {
    "collapsed": false,
    "pycharm": {
     "name": "#%%\n"
    }
   }
  },
  {
   "cell_type": "code",
   "execution_count": 57,
   "outputs": [],
   "source": [
    "# request.json()['choices'][0]['text'].lstrip('\\n')"
   ],
   "metadata": {
    "collapsed": false,
    "pycharm": {
     "name": "#%%\n"
    }
   }
  }
 ],
 "metadata": {
  "kernelspec": {
   "display_name": "Python 3",
   "language": "python",
   "name": "python3"
  },
  "language_info": {
   "codemirror_mode": {
    "name": "ipython",
    "version": 2
   },
   "file_extension": ".py",
   "mimetype": "text/x-python",
   "name": "python",
   "nbconvert_exporter": "python",
   "pygments_lexer": "ipython2",
   "version": "2.7.6"
  }
 },
 "nbformat": 4,
 "nbformat_minor": 0
}